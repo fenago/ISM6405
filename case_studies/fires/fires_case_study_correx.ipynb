{
 "cells": [
  {
   "cell_type": "markdown",
   "metadata": {},
   "source": [
    "# Chapter 12: The Forest Fires case study"
   ]
  },
  {
   "cell_type": "raw",
   "metadata": {},
   "source": [
    "If you haven't already installed GeoPandas, you should install it now.\n",
    "To do that, you can start Anaconda Prompt (Windows) or Terminal (macOS), \n",
    "and execute this command:\n",
    "\n",
    "conda install geopandas --channel conda-forge"
   ]
  },
  {
   "cell_type": "code",
   "execution_count": 1,
   "metadata": {},
   "outputs": [],
   "source": [
    "import pandas as pd\n",
    "import seaborn as sns"
   ]
  },
  {
   "cell_type": "markdown",
   "metadata": {},
   "source": [
    "## Get the data"
   ]
  },
  {
   "cell_type": "markdown",
   "metadata": {},
   "source": [
    "### Download zip file to disk"
   ]
  },
  {
   "cell_type": "code",
   "execution_count": null,
   "metadata": {
    "scrolled": true
   },
   "outputs": [],
   "source": [
    "# Note: This may take a long time to run\n",
    "fires_url = 'https://www.murach.com/python_analysis/FPA_FOD_20170508.zip'\n",
    "filename = 'RDS-2013-0009.4_SQLITE.zip'\n",
    "from urllib import request\n",
    "request.urlretrieve(fires_url+filename, filename=filename)"
   ]
  },
  {
   "cell_type": "markdown",
   "metadata": {},
   "source": [
    "### Unzip and print file info"
   ]
  },
  {
   "cell_type": "code",
   "execution_count": null,
   "metadata": {},
   "outputs": [],
   "source": [
    "from zipfile import ZipFile\n",
    "\n",
    "with ZipFile('../../data/RDS-2013-0009.4_SQLITE.zip', mode='r') as zip:\n",
    "    zip.extractall()        \n",
    "    for file in zip.infolist():    \n",
    "        print(file.filename, file.compress_size, file.file_size)"
   ]
  },
  {
   "cell_type": "markdown",
   "metadata": {},
   "source": [
    "### Connect to SQLite database and create a cursor"
   ]
  },
  {
   "cell_type": "code",
   "execution_count": null,
   "metadata": {},
   "outputs": [],
   "source": [
    "import sqlite3\n",
    "fires_con = sqlite3.connect('FPA_FOD_20170508.sqlite')\n",
    "fires_cur = fires_con.cursor()\n",
    "type(fires_con)"
   ]
  },
  {
   "cell_type": "markdown",
   "metadata": {},
   "source": [
    "### Check out the tables and columns"
   ]
  },
  {
   "cell_type": "code",
   "execution_count": null,
   "metadata": {},
   "outputs": [],
   "source": [
    "fires_cur.execute(\n",
    "    'SELECT name FROM sqlite_master WHERE type=\"table\"').fetchall()"
   ]
  },
  {
   "cell_type": "code",
   "execution_count": null,
   "metadata": {},
   "outputs": [],
   "source": [
    "fires_cur.execute('PRAGMA table_info(Fires)').fetchall()"
   ]
  },
  {
   "cell_type": "markdown",
   "metadata": {},
   "source": [
    "### Import the data into a DataFrame"
   ]
  },
  {
   "cell_type": "code",
   "execution_count": null,
   "metadata": {},
   "outputs": [],
   "source": [
    "# NOTE: This may take a long time to run\n",
    "fires_sql = \"\"\"\n",
    "            SELECT fire_name, fire_size,\n",
    "                state, latitude, longitude,\n",
    "                fire_year, \n",
    "                DATETIME(discovery_date) AS discovery_date,\n",
    "                DATETIME(cont_date) AS contain_date\n",
    "            FROM Fires\n",
    "            \"\"\"\n",
    "fires = pd.read_sql_query(fires_sql, fires_con)\n",
    "fires.head(3)"
   ]
  },
  {
   "cell_type": "markdown",
   "metadata": {},
   "source": [
    "### Save and retrieve DataFrame"
   ]
  },
  {
   "cell_type": "code",
   "execution_count": null,
   "metadata": {},
   "outputs": [],
   "source": [
    "fires.to_pickle('fires_raw.pkl')"
   ]
  },
  {
   "cell_type": "code",
   "execution_count": 2,
   "metadata": {},
   "outputs": [
    {
     "name": "stdout",
     "output_type": "stream",
     "text": [
      "CPU times: total: 859 ms\n",
      "Wall time: 901 ms\n"
     ]
    }
   ],
   "source": [
    "%time fires = pd.read_pickle('fires_raw.pkl')"
   ]
  },
  {
   "cell_type": "markdown",
   "metadata": {},
   "source": [
    "## Clean the data"
   ]
  },
  {
   "cell_type": "markdown",
   "metadata": {},
   "source": [
    "### Examine data"
   ]
  },
  {
   "cell_type": "code",
   "execution_count": 3,
   "metadata": {},
   "outputs": [
    {
     "name": "stdout",
     "output_type": "stream",
     "text": [
      "<class 'pandas.core.frame.DataFrame'>\n",
      "RangeIndex: 1880465 entries, 0 to 1880464\n",
      "Data columns (total 8 columns):\n",
      " #   Column          Dtype  \n",
      "---  ------          -----  \n",
      " 0   FIRE_NAME       object \n",
      " 1   FIRE_SIZE       float64\n",
      " 2   STATE           object \n",
      " 3   LATITUDE        float64\n",
      " 4   LONGITUDE       float64\n",
      " 5   FIRE_YEAR       int64  \n",
      " 6   discovery_date  object \n",
      " 7   contain_date    object \n",
      "dtypes: float64(3), int64(1), object(4)\n",
      "memory usage: 473.8 MB\n"
     ]
    }
   ],
   "source": [
    "fires.info(memory_usage='deep')"
   ]
  },
  {
   "cell_type": "code",
   "execution_count": 4,
   "metadata": {},
   "outputs": [
    {
     "data": {
      "text/html": [
       "<div>\n",
       "<style scoped>\n",
       "    .dataframe tbody tr th:only-of-type {\n",
       "        vertical-align: middle;\n",
       "    }\n",
       "\n",
       "    .dataframe tbody tr th {\n",
       "        vertical-align: top;\n",
       "    }\n",
       "\n",
       "    .dataframe thead th {\n",
       "        text-align: right;\n",
       "    }\n",
       "</style>\n",
       "<table border=\"1\" class=\"dataframe\">\n",
       "  <thead>\n",
       "    <tr style=\"text-align: right;\">\n",
       "      <th></th>\n",
       "      <th>count</th>\n",
       "      <th>mean</th>\n",
       "      <th>std</th>\n",
       "      <th>min</th>\n",
       "      <th>25%</th>\n",
       "      <th>50%</th>\n",
       "      <th>75%</th>\n",
       "      <th>max</th>\n",
       "    </tr>\n",
       "  </thead>\n",
       "  <tbody>\n",
       "    <tr>\n",
       "      <th>FIRE_SIZE</th>\n",
       "      <td>1880465.0</td>\n",
       "      <td>74.520158</td>\n",
       "      <td>2497.598180</td>\n",
       "      <td>0.000010</td>\n",
       "      <td>0.10000</td>\n",
       "      <td>1.000000</td>\n",
       "      <td>3.3000</td>\n",
       "      <td>606945.000000</td>\n",
       "    </tr>\n",
       "    <tr>\n",
       "      <th>LATITUDE</th>\n",
       "      <td>1880465.0</td>\n",
       "      <td>36.781213</td>\n",
       "      <td>6.139031</td>\n",
       "      <td>17.939722</td>\n",
       "      <td>32.81860</td>\n",
       "      <td>35.452500</td>\n",
       "      <td>40.8272</td>\n",
       "      <td>70.330600</td>\n",
       "    </tr>\n",
       "    <tr>\n",
       "      <th>LONGITUDE</th>\n",
       "      <td>1880465.0</td>\n",
       "      <td>-95.704942</td>\n",
       "      <td>16.716944</td>\n",
       "      <td>-178.802600</td>\n",
       "      <td>-110.36347</td>\n",
       "      <td>-92.043043</td>\n",
       "      <td>-82.2976</td>\n",
       "      <td>-65.256944</td>\n",
       "    </tr>\n",
       "    <tr>\n",
       "      <th>FIRE_YEAR</th>\n",
       "      <td>1880465.0</td>\n",
       "      <td>2003.709974</td>\n",
       "      <td>6.663099</td>\n",
       "      <td>1992.000000</td>\n",
       "      <td>1998.00000</td>\n",
       "      <td>2004.000000</td>\n",
       "      <td>2009.0000</td>\n",
       "      <td>2015.000000</td>\n",
       "    </tr>\n",
       "  </tbody>\n",
       "</table>\n",
       "</div>"
      ],
      "text/plain": [
       "               count         mean          std          min         25%  \\\n",
       "FIRE_SIZE  1880465.0    74.520158  2497.598180     0.000010     0.10000   \n",
       "LATITUDE   1880465.0    36.781213     6.139031    17.939722    32.81860   \n",
       "LONGITUDE  1880465.0   -95.704942    16.716944  -178.802600  -110.36347   \n",
       "FIRE_YEAR  1880465.0  2003.709974     6.663099  1992.000000  1998.00000   \n",
       "\n",
       "                   50%        75%            max  \n",
       "FIRE_SIZE     1.000000     3.3000  606945.000000  \n",
       "LATITUDE     35.452500    40.8272      70.330600  \n",
       "LONGITUDE   -92.043043   -82.2976     -65.256944  \n",
       "FIRE_YEAR  2004.000000  2009.0000    2015.000000  "
      ]
     },
     "execution_count": 4,
     "metadata": {},
     "output_type": "execute_result"
    }
   ],
   "source": [
    "fires.describe().T"
   ]
  },
  {
   "cell_type": "markdown",
   "metadata": {},
   "source": [
    "### Improve the readability"
   ]
  },
  {
   "cell_type": "code",
   "execution_count": 5,
   "metadata": {},
   "outputs": [
    {
     "data": {
      "text/html": [
       "<div>\n",
       "<style scoped>\n",
       "    .dataframe tbody tr th:only-of-type {\n",
       "        vertical-align: middle;\n",
       "    }\n",
       "\n",
       "    .dataframe tbody tr th {\n",
       "        vertical-align: top;\n",
       "    }\n",
       "\n",
       "    .dataframe thead th {\n",
       "        text-align: right;\n",
       "    }\n",
       "</style>\n",
       "<table border=\"1\" class=\"dataframe\">\n",
       "  <thead>\n",
       "    <tr style=\"text-align: right;\">\n",
       "      <th></th>\n",
       "      <th>fire_name</th>\n",
       "      <th>fire_size</th>\n",
       "      <th>state</th>\n",
       "      <th>latitude</th>\n",
       "      <th>longitude</th>\n",
       "      <th>fire_year</th>\n",
       "      <th>discovery_date</th>\n",
       "      <th>contain_date</th>\n",
       "    </tr>\n",
       "  </thead>\n",
       "  <tbody>\n",
       "    <tr>\n",
       "      <th>0</th>\n",
       "      <td>FOUNTAIN</td>\n",
       "      <td>0.10</td>\n",
       "      <td>CA</td>\n",
       "      <td>40.036944</td>\n",
       "      <td>-121.005833</td>\n",
       "      <td>2005</td>\n",
       "      <td>2005-02-02 00:00:00</td>\n",
       "      <td>2005-02-02 00:00:00</td>\n",
       "    </tr>\n",
       "    <tr>\n",
       "      <th>1</th>\n",
       "      <td>PIGEON</td>\n",
       "      <td>0.25</td>\n",
       "      <td>CA</td>\n",
       "      <td>38.933056</td>\n",
       "      <td>-120.404444</td>\n",
       "      <td>2004</td>\n",
       "      <td>2004-05-12 00:00:00</td>\n",
       "      <td>2004-05-12 00:00:00</td>\n",
       "    </tr>\n",
       "    <tr>\n",
       "      <th>2</th>\n",
       "      <td>SLACK</td>\n",
       "      <td>0.10</td>\n",
       "      <td>CA</td>\n",
       "      <td>38.984167</td>\n",
       "      <td>-120.735556</td>\n",
       "      <td>2004</td>\n",
       "      <td>2004-05-31 00:00:00</td>\n",
       "      <td>2004-05-31 00:00:00</td>\n",
       "    </tr>\n",
       "  </tbody>\n",
       "</table>\n",
       "</div>"
      ],
      "text/plain": [
       "  fire_name  fire_size state   latitude   longitude  fire_year  \\\n",
       "0  FOUNTAIN       0.10    CA  40.036944 -121.005833       2005   \n",
       "1    PIGEON       0.25    CA  38.933056 -120.404444       2004   \n",
       "2     SLACK       0.10    CA  38.984167 -120.735556       2004   \n",
       "\n",
       "        discovery_date         contain_date  \n",
       "0  2005-02-02 00:00:00  2005-02-02 00:00:00  \n",
       "1  2004-05-12 00:00:00  2004-05-12 00:00:00  \n",
       "2  2004-05-31 00:00:00  2004-05-31 00:00:00  "
      ]
     },
     "execution_count": 5,
     "metadata": {},
     "output_type": "execute_result"
    }
   ],
   "source": [
    "fires.columns = fires.columns.str.lower()\n",
    "fires.head(3)"
   ]
  },
  {
   "cell_type": "code",
   "execution_count": 6,
   "metadata": {},
   "outputs": [],
   "source": [
    "fires.rename(columns={'fire_size':'acres_burned'},inplace=True)"
   ]
  },
  {
   "cell_type": "code",
   "execution_count": 7,
   "metadata": {},
   "outputs": [],
   "source": [
    "fires['fire_name'] = fires.fire_name.str.title()"
   ]
  },
  {
   "cell_type": "markdown",
   "metadata": {},
   "source": [
    "### Drop unnecessary rows"
   ]
  },
  {
   "cell_type": "code",
   "execution_count": 8,
   "metadata": {},
   "outputs": [],
   "source": [
    "fires = fires[fires.acres_burned >= 10]"
   ]
  },
  {
   "cell_type": "code",
   "execution_count": 9,
   "metadata": {},
   "outputs": [
    {
     "name": "stdout",
     "output_type": "stream",
     "text": [
      "<class 'pandas.core.frame.DataFrame'>\n",
      "Index: 274170 entries, 16 to 1880441\n",
      "Data columns (total 8 columns):\n",
      " #   Column          Non-Null Count   Dtype  \n",
      "---  ------          --------------   -----  \n",
      " 0   fire_name       128667 non-null  object \n",
      " 1   acres_burned    274170 non-null  float64\n",
      " 2   state           274170 non-null  object \n",
      " 3   latitude        274170 non-null  float64\n",
      " 4   longitude       274170 non-null  float64\n",
      " 5   fire_year       274170 non-null  int64  \n",
      " 6   discovery_date  274170 non-null  object \n",
      " 7   contain_date    137377 non-null  object \n",
      "dtypes: float64(3), int64(1), object(4)\n",
      "memory usage: 70.6 MB\n"
     ]
    }
   ],
   "source": [
    "fires.info(memory_usage='deep')"
   ]
  },
  {
   "cell_type": "markdown",
   "metadata": {},
   "source": [
    "### Drop duplicate rows"
   ]
  },
  {
   "cell_type": "code",
   "execution_count": 10,
   "metadata": {},
   "outputs": [
    {
     "data": {
      "text/html": [
       "<div>\n",
       "<style scoped>\n",
       "    .dataframe tbody tr th:only-of-type {\n",
       "        vertical-align: middle;\n",
       "    }\n",
       "\n",
       "    .dataframe tbody tr th {\n",
       "        vertical-align: top;\n",
       "    }\n",
       "\n",
       "    .dataframe thead th {\n",
       "        text-align: right;\n",
       "    }\n",
       "</style>\n",
       "<table border=\"1\" class=\"dataframe\">\n",
       "  <thead>\n",
       "    <tr style=\"text-align: right;\">\n",
       "      <th></th>\n",
       "      <th>fire_name</th>\n",
       "      <th>acres_burned</th>\n",
       "      <th>state</th>\n",
       "      <th>latitude</th>\n",
       "      <th>longitude</th>\n",
       "      <th>fire_year</th>\n",
       "      <th>discovery_date</th>\n",
       "      <th>contain_date</th>\n",
       "    </tr>\n",
       "  </thead>\n",
       "  <tbody>\n",
       "    <tr>\n",
       "      <th>1350848</th>\n",
       "      <td>None</td>\n",
       "      <td>14.0</td>\n",
       "      <td>NY</td>\n",
       "      <td>42.223532</td>\n",
       "      <td>-73.687350</td>\n",
       "      <td>1997</td>\n",
       "      <td>1997-02-26 00:00:00</td>\n",
       "      <td>None</td>\n",
       "    </tr>\n",
       "    <tr>\n",
       "      <th>1350859</th>\n",
       "      <td>None</td>\n",
       "      <td>14.0</td>\n",
       "      <td>NY</td>\n",
       "      <td>42.223532</td>\n",
       "      <td>-73.687350</td>\n",
       "      <td>1997</td>\n",
       "      <td>1997-02-26 00:00:00</td>\n",
       "      <td>None</td>\n",
       "    </tr>\n",
       "    <tr>\n",
       "      <th>1371586</th>\n",
       "      <td>None</td>\n",
       "      <td>15.0</td>\n",
       "      <td>CT</td>\n",
       "      <td>41.279541</td>\n",
       "      <td>-72.815099</td>\n",
       "      <td>2000</td>\n",
       "      <td>2000-03-06 00:00:00</td>\n",
       "      <td>None</td>\n",
       "    </tr>\n",
       "    <tr>\n",
       "      <th>1371587</th>\n",
       "      <td>None</td>\n",
       "      <td>15.0</td>\n",
       "      <td>CT</td>\n",
       "      <td>41.279541</td>\n",
       "      <td>-72.815099</td>\n",
       "      <td>2000</td>\n",
       "      <td>2000-03-06 00:00:00</td>\n",
       "      <td>None</td>\n",
       "    </tr>\n",
       "    <tr>\n",
       "      <th>1432190</th>\n",
       "      <td>None</td>\n",
       "      <td>30.0</td>\n",
       "      <td>AL</td>\n",
       "      <td>32.640810</td>\n",
       "      <td>-86.837740</td>\n",
       "      <td>1995</td>\n",
       "      <td>1995-07-20 00:00:00</td>\n",
       "      <td>None</td>\n",
       "    </tr>\n",
       "    <tr>\n",
       "      <th>...</th>\n",
       "      <td>...</td>\n",
       "      <td>...</td>\n",
       "      <td>...</td>\n",
       "      <td>...</td>\n",
       "      <td>...</td>\n",
       "      <td>...</td>\n",
       "      <td>...</td>\n",
       "      <td>...</td>\n",
       "    </tr>\n",
       "    <tr>\n",
       "      <th>1721251</th>\n",
       "      <td>None</td>\n",
       "      <td>10.0</td>\n",
       "      <td>PR</td>\n",
       "      <td>18.057226</td>\n",
       "      <td>-66.406883</td>\n",
       "      <td>2011</td>\n",
       "      <td>2011-04-01 00:00:00</td>\n",
       "      <td>None</td>\n",
       "    </tr>\n",
       "    <tr>\n",
       "      <th>1843668</th>\n",
       "      <td>None</td>\n",
       "      <td>12.0</td>\n",
       "      <td>MA</td>\n",
       "      <td>42.201056</td>\n",
       "      <td>-72.640495</td>\n",
       "      <td>2015</td>\n",
       "      <td>2015-05-15 00:00:00</td>\n",
       "      <td>2015-05-15 00:00:00</td>\n",
       "    </tr>\n",
       "    <tr>\n",
       "      <th>1843669</th>\n",
       "      <td>None</td>\n",
       "      <td>12.0</td>\n",
       "      <td>MA</td>\n",
       "      <td>42.201056</td>\n",
       "      <td>-72.640495</td>\n",
       "      <td>2015</td>\n",
       "      <td>2015-05-15 00:00:00</td>\n",
       "      <td>2015-05-15 00:00:00</td>\n",
       "    </tr>\n",
       "    <tr>\n",
       "      <th>1861585</th>\n",
       "      <td>None</td>\n",
       "      <td>10.0</td>\n",
       "      <td>HI</td>\n",
       "      <td>21.497620</td>\n",
       "      <td>-158.187042</td>\n",
       "      <td>1992</td>\n",
       "      <td>1992-09-07 00:00:00</td>\n",
       "      <td>None</td>\n",
       "    </tr>\n",
       "    <tr>\n",
       "      <th>1861588</th>\n",
       "      <td>None</td>\n",
       "      <td>10.0</td>\n",
       "      <td>HI</td>\n",
       "      <td>21.497620</td>\n",
       "      <td>-158.187042</td>\n",
       "      <td>1992</td>\n",
       "      <td>1992-09-07 00:00:00</td>\n",
       "      <td>None</td>\n",
       "    </tr>\n",
       "  </tbody>\n",
       "</table>\n",
       "<p>94 rows × 8 columns</p>\n",
       "</div>"
      ],
      "text/plain": [
       "        fire_name  acres_burned state   latitude   longitude  fire_year  \\\n",
       "1350848      None          14.0    NY  42.223532  -73.687350       1997   \n",
       "1350859      None          14.0    NY  42.223532  -73.687350       1997   \n",
       "1371586      None          15.0    CT  41.279541  -72.815099       2000   \n",
       "1371587      None          15.0    CT  41.279541  -72.815099       2000   \n",
       "1432190      None          30.0    AL  32.640810  -86.837740       1995   \n",
       "...           ...           ...   ...        ...         ...        ...   \n",
       "1721251      None          10.0    PR  18.057226  -66.406883       2011   \n",
       "1843668      None          12.0    MA  42.201056  -72.640495       2015   \n",
       "1843669      None          12.0    MA  42.201056  -72.640495       2015   \n",
       "1861585      None          10.0    HI  21.497620 -158.187042       1992   \n",
       "1861588      None          10.0    HI  21.497620 -158.187042       1992   \n",
       "\n",
       "              discovery_date         contain_date  \n",
       "1350848  1997-02-26 00:00:00                 None  \n",
       "1350859  1997-02-26 00:00:00                 None  \n",
       "1371586  2000-03-06 00:00:00                 None  \n",
       "1371587  2000-03-06 00:00:00                 None  \n",
       "1432190  1995-07-20 00:00:00                 None  \n",
       "...                      ...                  ...  \n",
       "1721251  2011-04-01 00:00:00                 None  \n",
       "1843668  2015-05-15 00:00:00  2015-05-15 00:00:00  \n",
       "1843669  2015-05-15 00:00:00  2015-05-15 00:00:00  \n",
       "1861585  1992-09-07 00:00:00                 None  \n",
       "1861588  1992-09-07 00:00:00                 None  \n",
       "\n",
       "[94 rows x 8 columns]"
      ]
     },
     "execution_count": 10,
     "metadata": {},
     "output_type": "execute_result"
    }
   ],
   "source": [
    "fires[fires.duplicated(keep=False)]"
   ]
  },
  {
   "cell_type": "code",
   "execution_count": 11,
   "metadata": {},
   "outputs": [],
   "source": [
    "fires = fires.drop_duplicates(keep='first')"
   ]
  },
  {
   "cell_type": "code",
   "execution_count": 12,
   "metadata": {},
   "outputs": [
    {
     "name": "stdout",
     "output_type": "stream",
     "text": [
      "<class 'pandas.core.frame.DataFrame'>\n",
      "Index: 274123 entries, 16 to 1880441\n",
      "Data columns (total 8 columns):\n",
      " #   Column          Non-Null Count   Dtype  \n",
      "---  ------          --------------   -----  \n",
      " 0   fire_name       128667 non-null  object \n",
      " 1   acres_burned    274123 non-null  float64\n",
      " 2   state           274123 non-null  object \n",
      " 3   latitude        274123 non-null  float64\n",
      " 4   longitude       274123 non-null  float64\n",
      " 5   fire_year       274123 non-null  int64  \n",
      " 6   discovery_date  274123 non-null  object \n",
      " 7   contain_date    137376 non-null  object \n",
      "dtypes: float64(3), int64(1), object(4)\n",
      "memory usage: 70.6 MB\n"
     ]
    }
   ],
   "source": [
    "fires.info(memory_usage='deep')"
   ]
  },
  {
   "cell_type": "markdown",
   "metadata": {},
   "source": [
    "### Convert dates to datetimes"
   ]
  },
  {
   "cell_type": "code",
   "execution_count": 16,
   "metadata": {},
   "outputs": [],
   "source": [
    "# old code\n",
    "# fires.discovery_date = pd.to_datetime(fires.discovery_date, infer_datetime_format=True)\n",
    "# fixed error by removing deprecated infer_datetime_format argument\n",
    "fires.discovery_date = pd.to_datetime(fires.discovery_date)"
   ]
  },
  {
   "cell_type": "code",
   "execution_count": 17,
   "metadata": {},
   "outputs": [],
   "source": [
    "# old code\n",
    "# fires.contain_date = pd.to_datetime(fires.contain_date, infer_datetime_format=True)\n",
    "# fixed error by removing deprecated infer_datetime_format argument\n",
    "fires.contain_date = pd.to_datetime(fires.contain_date)"
   ]
  },
  {
   "cell_type": "markdown",
   "metadata": {},
   "source": [
    "### Check for missing contain dates"
   ]
  },
  {
   "cell_type": "code",
   "execution_count": null,
   "metadata": {},
   "outputs": [],
   "source": [
    "fires[fires.contain_date.isnull()]"
   ]
  },
  {
   "cell_type": "code",
   "execution_count": null,
   "metadata": {},
   "outputs": [],
   "source": [
    "fires.query('contain_date != contain_date & acres_burned >= 10000') \\\n",
    "    .sort_values('acres_burned', ascending=False)"
   ]
  },
  {
   "cell_type": "code",
   "execution_count": null,
   "metadata": {},
   "outputs": [],
   "source": [
    "fires.query('contain_date != \"NaT\" & acres_burned >= 100') \\\n",
    "    .sort_values('acres_burned', ascending=False)"
   ]
  },
  {
   "cell_type": "markdown",
   "metadata": {},
   "source": [
    "### Save and retrieve DataFrame"
   ]
  },
  {
   "cell_type": "code",
   "execution_count": null,
   "metadata": {},
   "outputs": [],
   "source": [
    "fires.to_pickle('fires_clean.pkl')"
   ]
  },
  {
   "cell_type": "code",
   "execution_count": null,
   "metadata": {},
   "outputs": [],
   "source": [
    "fires = pd.read_pickle('fires_clean.pkl')"
   ]
  },
  {
   "cell_type": "markdown",
   "metadata": {},
   "source": [
    "## Prepare data"
   ]
  },
  {
   "cell_type": "code",
   "execution_count": null,
   "metadata": {},
   "outputs": [],
   "source": [
    "fires['fire_month'] = fires.discovery_date.dt.month"
   ]
  },
  {
   "cell_type": "code",
   "execution_count": null,
   "metadata": {},
   "outputs": [],
   "source": [
    "fires['days_burning'] = (fires.contain_date - fires.discovery_date).dt.days"
   ]
  },
  {
   "cell_type": "code",
   "execution_count": null,
   "metadata": {},
   "outputs": [],
   "source": [
    "fires.days_burning.describe()"
   ]
  },
  {
   "cell_type": "code",
   "execution_count": null,
   "metadata": {},
   "outputs": [],
   "source": [
    "fires.query('acres_burned >= 100')[['fire_name','acres_burned',\n",
    "    'discovery_date','contain_date','days_burning']] \\\n",
    "    .sort_values('days_burning', ascending=False)"
   ]
  },
  {
   "cell_type": "code",
   "execution_count": null,
   "metadata": {},
   "outputs": [],
   "source": [
    "fires.to_pickle('fires_prepared.pkl')"
   ]
  },
  {
   "cell_type": "code",
   "execution_count": null,
   "metadata": {},
   "outputs": [],
   "source": [
    "fires = pd.read_pickle('fires_prepared.pkl')"
   ]
  },
  {
   "cell_type": "markdown",
   "metadata": {},
   "source": [
    "## Analyze the data"
   ]
  },
  {
   "cell_type": "markdown",
   "metadata": {},
   "source": [
    "### Analyze the data for California"
   ]
  },
  {
   "cell_type": "code",
   "execution_count": null,
   "metadata": {},
   "outputs": [],
   "source": [
    "fires.query('state == \"CA\"')[['acres_burned','days_burning']].describe().T"
   ]
  },
  {
   "cell_type": "code",
   "execution_count": null,
   "metadata": {},
   "outputs": [],
   "source": [
    "fires.query('state == \"CA\"') \\\n",
    "    .groupby('fire_year').acres_burned.max() \\\n",
    "    .plot.bar(ylabel='acres_burned', \n",
    "              title='Largest Fire in California by Year')"
   ]
  },
  {
   "cell_type": "code",
   "execution_count": null,
   "metadata": {},
   "outputs": [],
   "source": [
    "fires.query('state == \"CA\"') \\\n",
    "    .groupby('fire_year').acres_burned.agg(['mean','median']) \\\n",
    "    .plot(title='Mean and Median Fires Sizes in California by Year')"
   ]
  },
  {
   "cell_type": "code",
   "execution_count": null,
   "metadata": {},
   "outputs": [],
   "source": [
    "fires.query('state == \"CA\"') \\\n",
    "    .groupby('fire_month').acres_burned.count() \\\n",
    "    .plot.bar(title='Number of Fires by Month in California')"
   ]
  },
  {
   "cell_type": "code",
   "execution_count": null,
   "metadata": {},
   "outputs": [],
   "source": [
    "sns.catplot(data=fires.query('state == \"CA\" & acres_burned >= 10000'),\n",
    "            kind='box', x='fire_month', y='acres_burned')"
   ]
  },
  {
   "cell_type": "markdown",
   "metadata": {},
   "source": [
    "### Rank the states by total acres burned"
   ]
  },
  {
   "cell_type": "code",
   "execution_count": null,
   "metadata": {},
   "outputs": [],
   "source": [
    "fires_states = fires.groupby('state').acres_burned.sum().to_frame()"
   ]
  },
  {
   "cell_type": "code",
   "execution_count": null,
   "metadata": {},
   "outputs": [],
   "source": [
    "fires_states['state_rank'] = \\\n",
    "    fires_states['acres_burned'].rank(ascending=False)\n",
    "fires_states.sort_values('state_rank', inplace=True)\n",
    "fires_states.head()"
   ]
  },
  {
   "cell_type": "code",
   "execution_count": null,
   "metadata": {},
   "outputs": [],
   "source": [
    "fires_states.query('state_rank <= 10') \\\n",
    "    .plot.bar(y='acres_burned', ylabel='ten millions of acreas',\n",
    "              title='Total Acres Burned in the Top 10 States')"
   ]
  },
  {
   "cell_type": "markdown",
   "metadata": {},
   "source": [
    "### Prepare a DataFrame for acres burned by year and state"
   ]
  },
  {
   "cell_type": "code",
   "execution_count": null,
   "metadata": {},
   "outputs": [],
   "source": [
    "fires_states_years = \\\n",
    "    fires.groupby(['state','fire_year']).acres_burned.sum().to_frame()\n",
    "fires_states_years.head(4)"
   ]
  },
  {
   "cell_type": "code",
   "execution_count": null,
   "metadata": {},
   "outputs": [],
   "source": [
    "fires_states_years = fires_states_years.join(fires_states, \n",
    "    lsuffix='_by_year', rsuffix='_total')\n",
    "fires_states_years.head(4)"
   ]
  },
  {
   "cell_type": "code",
   "execution_count": null,
   "metadata": {},
   "outputs": [],
   "source": [
    "fires_states_top4 = fires_states_years.query('state_rank <= 4')\n",
    "fires_states_top4 = fires_states_top4.reset_index()\n",
    "fires_states_top4.head(4)"
   ]
  },
  {
   "cell_type": "code",
   "execution_count": null,
   "metadata": {},
   "outputs": [],
   "source": [
    "g = sns.relplot(data=fires_states_top4, kind='line', \n",
    "    x='fire_year', y='acres_burned_by_year', hue='state',\n",
    "    col='state', col_wrap=2, legend=False)\n",
    "\n",
    "g.fig.suptitle('Total Acres Burned by Year in the Top 4 States', y=1.025)\n",
    "for ax in g.axes.flat: \n",
    "    ax.set_xlabel('Fire Year')\n",
    "    ax.set_ylabel('Millions of Acres')"
   ]
  },
  {
   "cell_type": "markdown",
   "metadata": {},
   "source": [
    "## Visualize data"
   ]
  },
  {
   "cell_type": "markdown",
   "metadata": {},
   "source": [
    "### Review the top 20 fires in California"
   ]
  },
  {
   "cell_type": "code",
   "execution_count": null,
   "metadata": {},
   "outputs": [],
   "source": [
    "top_fires = fires.query('state == \"CA\"').nlargest(20, columns='acres_burned')\n",
    "top_fires[['fire_year','fire_name','acres_burned','days_burning']].head(10)"
   ]
  },
  {
   "cell_type": "code",
   "execution_count": null,
   "metadata": {},
   "outputs": [],
   "source": [
    "top_fires.sort_values('fire_year').plot.bar(x='fire_year', y='acres_burned')"
   ]
  },
  {
   "cell_type": "markdown",
   "metadata": {},
   "source": [
    "## Use Geopandas to plot the fires on a California map"
   ]
  },
  {
   "cell_type": "code",
   "execution_count": null,
   "metadata": {},
   "outputs": [],
   "source": [
    "fires_CA_2015 = fires.query('fire_year == 2015 & state == \"CA\"')"
   ]
  },
  {
   "cell_type": "code",
   "execution_count": null,
   "metadata": {},
   "outputs": [],
   "source": [
    "import geopandas as geo\n",
    "# Create GeoDataFrame from DataFrame\n",
    "fire_locations = geo.GeoDataFrame(fires_CA_2015, \n",
    "    geometry=geo.points_from_xy(fires_CA_2015.longitude, fires_CA_2015.latitude))"
   ]
  },
  {
   "cell_type": "code",
   "execution_count": null,
   "metadata": {},
   "outputs": [],
   "source": [
    "usa = geo.read_file('Maps/states.shp')\n",
    "usa.head()"
   ]
  },
  {
   "cell_type": "code",
   "execution_count": null,
   "metadata": {},
   "outputs": [],
   "source": [
    "# The map for CA\n",
    "ca_map = usa[usa.STATE_ABBR == 'CA']\n",
    "ca_map.plot(color='white', edgecolor='black')"
   ]
  },
  {
   "cell_type": "code",
   "execution_count": null,
   "metadata": {},
   "outputs": [],
   "source": [
    "fire_locations.query('acres_burned > 500').plot(color='red',\n",
    "    ax=ca_map.plot(color='white', edgecolor='black'))"
   ]
  },
  {
   "cell_type": "code",
   "execution_count": null,
   "metadata": {},
   "outputs": [],
   "source": [
    "ca_map = usa[usa.STATE_ABBR == 'CA']\n",
    "ca_map.plot(color='white', edgecolor='black')\n",
    "ax = sns.scatterplot(data=fires_CA_2015.query('acres_burned > 500'),\n",
    "    x='longitude', y='latitude', size='acres_burned', hue='acres_burned', palette='flare')\n",
    "ax.set(title='California fires in 2015 over 500 acres',\n",
    "       ylabel=None, xlabel=None)"
   ]
  },
  {
   "cell_type": "code",
   "execution_count": null,
   "metadata": {},
   "outputs": [],
   "source": [
    "continental_usa = usa.loc[1:49]\n",
    "continental_usa.plot(color='white', edgecolor='black', figsize=(12,5))\n",
    "ax = sns.scatterplot(\n",
    "    data=fires.query('acres_burned > 100_000 & state not in [\"AK\",\"HI\"]'),\n",
    "    x='longitude', y='latitude', size='acres_burned', sizes=(10,100),\n",
    "    hue='acres_burned', palette='flare')\n",
    "\n",
    "ax.set(title='Continental U.S. fires over 100,000 acres', \n",
    "       ylabel=None, xlabel=None)"
   ]
  },
  {
   "cell_type": "code",
   "execution_count": null,
   "metadata": {},
   "outputs": [],
   "source": [
    "ax.get_figure().savefig('us_fires_map.png')"
   ]
  },
  {
   "cell_type": "code",
   "execution_count": null,
   "metadata": {},
   "outputs": [],
   "source": []
  }
 ],
 "metadata": {
  "kernelspec": {
   "display_name": "Python 3 (ipykernel)",
   "language": "python",
   "name": "python3"
  },
  "language_info": {
   "codemirror_mode": {
    "name": "ipython",
    "version": 3
   },
   "file_extension": ".py",
   "mimetype": "text/x-python",
   "name": "python",
   "nbconvert_exporter": "python",
   "pygments_lexer": "ipython3",
   "version": "3.9.18"
  },
  "nteract": {
   "version": "0.15.0"
  }
 },
 "nbformat": 4,
 "nbformat_minor": 4
}
